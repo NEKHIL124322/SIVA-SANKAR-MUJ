{
  "nbformat": 4,
  "nbformat_minor": 0,
  "metadata": {
    "colab": {
      "provenance": [],
      "include_colab_link": true
    },
    "kernelspec": {
      "name": "python3",
      "display_name": "Python 3"
    },
    "language_info": {
      "name": "python"
    }
  },
  "cells": [
    {
      "cell_type": "markdown",
      "metadata": {
        "id": "view-in-github",
        "colab_type": "text"
      },
      "source": [
        "<a href=\"https://colab.research.google.com/github/NEKHIL124322/SIVA-SANKAR-MUJ/blob/main/ExceptionHandling26012024.ipynb\" target=\"_parent\"><img src=\"https://colab.research.google.com/assets/colab-badge.svg\" alt=\"Open In Colab\"/></a>"
      ]
    },
    {
      "cell_type": "code",
      "execution_count": null,
      "metadata": {
        "colab": {
          "base_uri": "https://localhost:8080/"
        },
        "id": "WPXH1LDcGa4i",
        "outputId": "82a3cbc0-eb68-40a7-cfc1-3edae63d59e9"
      },
      "outputs": [
        {
          "output_type": "stream",
          "name": "stdout",
          "text": [
            "10\n",
            "7\n",
            "3.14\n",
            "5.5\n"
          ]
        }
      ],
      "source": [
        "# abs():- The absolute value of a number is its distance from zero, without considering its sign (positive or negative).\n",
        "\n",
        "print(abs(-10))  # Output: 10\n",
        "print(abs(7))    # Output: 7\n",
        "\n",
        "print(abs(-3.14))  # Output: 3.14\n",
        "print(abs(5.5))    # Output: 5.5\n"
      ]
    },
    {
      "cell_type": "code",
      "source": [
        "# bin():- The bin() function in Python is a built-in function that converts an integer to its binary representation as a string.\n",
        "\n",
        "print(bin(10))   # Output: '0b1010'\n",
        "print(bin(255))  # Output: '0b11111111'\n"
      ],
      "metadata": {
        "colab": {
          "base_uri": "https://localhost:8080/"
        },
        "id": "4zxKh9djKo9S",
        "outputId": "71303f4e-1188-4beb-94fe-cb2c87fe1a6d"
      },
      "execution_count": null,
      "outputs": [
        {
          "output_type": "stream",
          "name": "stdout",
          "text": [
            "0b1010\n",
            "0b11111111\n"
          ]
        }
      ]
    },
    {
      "cell_type": "code",
      "source": [
        "print(oct(10))  #0,1,2,3,4,5,6,7"
      ],
      "metadata": {
        "colab": {
          "base_uri": "https://localhost:8080/"
        },
        "id": "gf_rMbaFP50m",
        "outputId": "efc88d8c-f448-4a46-c251-5f7287367c42"
      },
      "execution_count": null,
      "outputs": [
        {
          "output_type": "stream",
          "name": "stdout",
          "text": [
            "0o12\n"
          ]
        }
      ]
    },
    {
      "cell_type": "code",
      "source": [],
      "metadata": {
        "id": "KwKhxghTSjn3"
      },
      "execution_count": null,
      "outputs": []
    },
    {
      "cell_type": "code",
      "source": [
        "# len()\n",
        "\n",
        "print(len(\"Hello\"))"
      ],
      "metadata": {
        "colab": {
          "base_uri": "https://localhost:8080/"
        },
        "id": "sdBOMHt1RTfF",
        "outputId": "ef747c65-8013-44a1-f953-331d2c88a772"
      },
      "execution_count": null,
      "outputs": [
        {
          "output_type": "stream",
          "name": "stdout",
          "text": [
            "5\n"
          ]
        }
      ]
    },
    {
      "cell_type": "code",
      "source": [
        "# any() and all()\n",
        "\n",
        "l= [0,0,0]\n",
        "\n",
        "l1= [0,0,1]\n",
        "\n",
        "l2= [1,2,3]\n",
        "\n",
        "print(any(l1))\n",
        "\n",
        "print(all(l1)) # return TRUE if all data items are non-zero"
      ],
      "metadata": {
        "colab": {
          "base_uri": "https://localhost:8080/"
        },
        "id": "CI1AriLsSkc8",
        "outputId": "61062a50-c593-4d3f-93f6-9207d0999e1a"
      },
      "execution_count": null,
      "outputs": [
        {
          "output_type": "stream",
          "name": "stdout",
          "text": [
            "True\n",
            "False\n"
          ]
        }
      ]
    },
    {
      "cell_type": "code",
      "source": [
        "l= [5,4,3,2,1]\n",
        "\n",
        "print(max(l))\n",
        "\n",
        "print(min(l))\n",
        "\n",
        "print(sum(l))"
      ],
      "metadata": {
        "colab": {
          "base_uri": "https://localhost:8080/"
        },
        "id": "wUJD39buTFkb",
        "outputId": "95d3d3c6-59ea-497c-8358-237f42945aa1"
      },
      "execution_count": null,
      "outputs": [
        {
          "output_type": "stream",
          "name": "stdout",
          "text": [
            "5\n",
            "1\n",
            "15\n"
          ]
        }
      ]
    },
    {
      "cell_type": "code",
      "source": [
        "\n",
        "# Python program to explain working of isleap() method\n",
        "\n",
        "# importing calendar module\n",
        "import calendar as cd\n",
        "\n",
        "# checking whether given year is leap or not\n",
        "print(cd.isleap(2016))\n",
        "print(cd.isleap(2001))"
      ],
      "metadata": {
        "colab": {
          "base_uri": "https://localhost:8080/"
        },
        "id": "f5obXfSjTsf4",
        "outputId": "2321535f-7dda-41e4-9b4a-ace2973d33e1"
      },
      "execution_count": null,
      "outputs": [
        {
          "output_type": "stream",
          "name": "stdout",
          "text": [
            "True\n",
            "False\n"
          ]
        }
      ]
    },
    {
      "cell_type": "code",
      "source": [
        "dict1= {1:\"A\",2:\"B\",3:\"C\"}\n",
        "\n",
        "print(dict1[12])"
      ],
      "metadata": {
        "colab": {
          "base_uri": "https://localhost:8080/",
          "height": 176
        },
        "id": "LotwoVrtUhcs",
        "outputId": "ed22ee54-7fc6-4005-e6a3-d850b4d69a4f"
      },
      "execution_count": null,
      "outputs": [
        {
          "output_type": "error",
          "ename": "KeyError",
          "evalue": "12",
          "traceback": [
            "\u001b[0;31m---------------------------------------------------------------------------\u001b[0m",
            "\u001b[0;31mKeyError\u001b[0m                                  Traceback (most recent call last)",
            "\u001b[0;32m<ipython-input-20-bcd8a2e79bdf>\u001b[0m in \u001b[0;36m<cell line: 0>\u001b[0;34m()\u001b[0m\n\u001b[1;32m      1\u001b[0m \u001b[0mdict1\u001b[0m\u001b[0;34m=\u001b[0m \u001b[0;34m{\u001b[0m\u001b[0;36m1\u001b[0m\u001b[0;34m:\u001b[0m\u001b[0;34m\"A\"\u001b[0m\u001b[0;34m,\u001b[0m\u001b[0;36m2\u001b[0m\u001b[0;34m:\u001b[0m\u001b[0;34m\"B\"\u001b[0m\u001b[0;34m,\u001b[0m\u001b[0;36m3\u001b[0m\u001b[0;34m:\u001b[0m\u001b[0;34m\"C\"\u001b[0m\u001b[0;34m}\u001b[0m\u001b[0;34m\u001b[0m\u001b[0;34m\u001b[0m\u001b[0m\n\u001b[1;32m      2\u001b[0m \u001b[0;34m\u001b[0m\u001b[0m\n\u001b[0;32m----> 3\u001b[0;31m \u001b[0mprint\u001b[0m\u001b[0;34m(\u001b[0m\u001b[0mdict1\u001b[0m\u001b[0;34m[\u001b[0m\u001b[0;36m12\u001b[0m\u001b[0;34m]\u001b[0m\u001b[0;34m)\u001b[0m\u001b[0;34m\u001b[0m\u001b[0;34m\u001b[0m\u001b[0m\n\u001b[0m",
            "\u001b[0;31mKeyError\u001b[0m: 12"
          ]
        }
      ]
    },
    {
      "cell_type": "code",
      "source": [
        "dict1= {1:\"A\",2:\"B\",3:\"C\"}\n",
        "\n",
        "try:\n",
        "  print(dict1[12]) #keyError\n",
        "\n",
        "except:\n",
        "  print(\"Key not found\")\n",
        "\n",
        "\n",
        "print(\"Program executed successfully\")"
      ],
      "metadata": {
        "colab": {
          "base_uri": "https://localhost:8080/"
        },
        "id": "6Q03541lUb4z",
        "outputId": "35a8368d-829d-4ee9-ba8b-07f7dc0a7c70"
      },
      "execution_count": null,
      "outputs": [
        {
          "output_type": "stream",
          "name": "stdout",
          "text": [
            "Key not found\n",
            "Program executed successfully\n"
          ]
        }
      ]
    },
    {
      "cell_type": "code",
      "source": [
        "list1=[11,22,33,44,55]\n",
        "\n",
        "try:\n",
        "  num=int(input(\"Enter the index number: \"))\n",
        "  print(list1[num])\n",
        "\n",
        "  num2=int(input(\"Enter the number to divide: \"))\n",
        "  res=list1[num]/num2\n",
        "\n",
        "except ZeroDivisionError:\n",
        "  print(\"Number cannot be divide by 0\")\n",
        "\n",
        "except IndexError:\n",
        "  print(\"Wrong index number\")\n",
        "\n",
        "else:\n",
        "  print(\"Result is: \",res)\n",
        "\n",
        "finally:\n",
        "  print(\"Program execution completed\")"
      ],
      "metadata": {
        "colab": {
          "base_uri": "https://localhost:8080/"
        },
        "id": "EX4Z3lyEVgrt",
        "outputId": "98c3e299-75eb-4735-f70a-2c0d75bc8324"
      },
      "execution_count": null,
      "outputs": [
        {
          "output_type": "stream",
          "name": "stdout",
          "text": [
            "Enter the index number: 3\n",
            "44\n",
            "Enter the number to divide: 0\n",
            "Number cannot be divide by 0\n",
            "Program execution completed\n"
          ]
        }
      ]
    },
    {
      "cell_type": "code",
      "source": [
        "list1=[11,22,33,44,55]\n",
        "\n",
        "try:\n",
        "  num=int(input(\"Enter the index number: \"))\n",
        "  print(list1[num])\n",
        "\n",
        "  num2=int(input(\"Enter the number to divide: \"))\n",
        "  res=list1[num]/num2\n",
        "\n",
        "except (ZeroDivisionError, IndexError, ValueError, TypeError):\n",
        "  print(\"Error Occurs\")\n",
        "\n",
        "else:\n",
        "  print(\"Result is: \",res)\n",
        "\n",
        "finally:\n",
        "  print(\"Program execution completed\")"
      ],
      "metadata": {
        "colab": {
          "base_uri": "https://localhost:8080/"
        },
        "id": "qlyKN7pFXA9b",
        "outputId": "851da7d6-47e7-4098-9e4a-7ff418fe470c"
      },
      "execution_count": null,
      "outputs": [
        {
          "output_type": "stream",
          "name": "stdout",
          "text": [
            "Enter the index number: 3\n",
            "44\n",
            "Enter the number to divide: 0\n",
            "Error Occurs\n",
            "Program execution completed\n"
          ]
        }
      ]
    },
    {
      "cell_type": "code",
      "source": [
        "number=input(\"Enter Number\")\n",
        "\n",
        "print(type(number))\n",
        "\n",
        "try:\n",
        "  number1=int(number)\n",
        "  if type(number1) is int:\n",
        "    print(\"Number is integer\")\n",
        "  else:\n",
        "    raise ValueError()\n",
        "\n",
        "except ValueError:\n",
        "  print(\"String cannot be converted into int\")"
      ],
      "metadata": {
        "colab": {
          "base_uri": "https://localhost:8080/"
        },
        "id": "wUYYOh9_Xhzx",
        "outputId": "11661f90-6e74-444a-eb44-8ad744ee6abb"
      },
      "execution_count": null,
      "outputs": [
        {
          "output_type": "stream",
          "name": "stdout",
          "text": [
            "Enter Numberabc\n",
            "<class 'str'>\n",
            "String cannot be converted into int\n"
          ]
        }
      ]
    },
    {
      "cell_type": "code",
      "source": [
        "# Define a user-defined exception\n",
        "class ABC(Exception):\n",
        "  pass\n",
        "\n",
        "# Main program\n",
        "try:\n",
        "    age = int(input(\"Enter your age: \"))\n",
        "    if age < 18:\n",
        "        raise ABC()\n",
        "    else:\n",
        "        print(\"You are eligible to vote!\")\n",
        "\n",
        "\n",
        "except ABC:\n",
        "    print(\"Not eligible to vote\")\n",
        "\n",
        "print(\"Program execution continues...\")"
      ],
      "metadata": {
        "colab": {
          "base_uri": "https://localhost:8080/"
        },
        "id": "vTYjEUrpZtjh",
        "outputId": "2187951f-2f36-48b2-b4fa-16d26a1b7ad7"
      },
      "execution_count": null,
      "outputs": [
        {
          "output_type": "stream",
          "name": "stdout",
          "text": [
            "Enter your age: 54\n",
            "You are eligible to vote!\n",
            "Program execution continues...\n"
          ]
        }
      ]
    }
  ]
}