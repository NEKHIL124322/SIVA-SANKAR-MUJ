{
  "nbformat": 4,
  "nbformat_minor": 0,
  "metadata": {
    "colab": {
      "provenance": [],
      "authorship_tag": "ABX9TyMg2Kh49OcNTHptMAGiLh1T",
      "include_colab_link": true
    },
    "kernelspec": {
      "name": "python3",
      "display_name": "Python 3"
    },
    "language_info": {
      "name": "python"
    }
  },
  "cells": [
    {
      "cell_type": "markdown",
      "metadata": {
        "id": "view-in-github",
        "colab_type": "text"
      },
      "source": [
        "<a href=\"https://colab.research.google.com/github/NEKHIL124322/SIVA-SANKAR-MUJ/blob/main/project3_08122024.ipynb\" target=\"_parent\"><img src=\"https://colab.research.google.com/assets/colab-badge.svg\" alt=\"Open In Colab\"/></a>"
      ]
    },
    {
      "cell_type": "code",
      "execution_count": null,
      "metadata": {
        "id": "bDPy65Y1ruzh",
        "colab": {
          "base_uri": "https://localhost:8080/"
        },
        "outputId": "c8a7f083-b8ed-4998-a704-634951ab154e"
      },
      "outputs": [
        {
          "output_type": "stream",
          "name": "stdout",
          "text": [
            "10\n",
            "<class '__main__.A'>\n"
          ]
        }
      ],
      "source": [
        "class A:\n",
        "  var1=10\n",
        "obj=A()\n",
        "print(obj.var1)\n",
        "print(type(obj))"
      ]
    },
    {
      "cell_type": "code",
      "source": [
        "class A1:\n",
        "  A=10\n",
        "  def disp(self):\n",
        "    print(\"Hello Python\")\n",
        "    print(\"value of A is: \",self.a)\n",
        "  ob1=A()\n",
        "  ob1.disp()"
      ],
      "metadata": {
        "id": "kEhqorbnzJon"
      },
      "execution_count": null,
      "outputs": []
    }
  ]
}