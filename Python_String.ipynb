{
  "nbformat": 4,
  "nbformat_minor": 0,
  "metadata": {
    "colab": {
      "provenance": [],
      "include_colab_link": true
    },
    "kernelspec": {
      "name": "python3",
      "display_name": "Python 3"
    },
    "language_info": {
      "name": "python"
    }
  },
  "cells": [
    {
      "cell_type": "markdown",
      "metadata": {
        "id": "view-in-github",
        "colab_type": "text"
      },
      "source": [
        "<a href=\"https://colab.research.google.com/github/NEKHIL124322/SIVA-SANKAR-MUJ/blob/main/Python_String.ipynb\" target=\"_parent\"><img src=\"https://colab.research.google.com/assets/colab-badge.svg\" alt=\"Open In Colab\"/></a>"
      ]
    },
    {
      "cell_type": "code",
      "execution_count": null,
      "metadata": {
        "id": "ONJoBkUkg1CS"
      },
      "outputs": [],
      "source": [
        "str1= \"Python\"\n",
        "\n",
        "print(type(str1))"
      ]
    },
    {
      "cell_type": "code",
      "source": [
        "str1= \"Python\"\n",
        "\n",
        "str2= \"Java\"\n",
        "\n",
        "str3= \"Python\"\n",
        "\n",
        "print(id(str1))\n",
        "print(id(str2))\n",
        "print(id(str3))\n",
        "\n",
        "print(str1 is str2) #FALSE\n",
        "\n",
        "print(str1 is str3) #TRUE"
      ],
      "metadata": {
        "id": "WF34J79LhMwm",
        "outputId": "575c1b28-7c35-4774-f7bf-767384bf2fe6",
        "colab": {
          "base_uri": "https://localhost:8080/"
        }
      },
      "execution_count": null,
      "outputs": [
        {
          "output_type": "stream",
          "name": "stdout",
          "text": [
            "134257932727728\n",
            "134257925799024\n",
            "134257932727728\n",
            "False\n",
            "True\n"
          ]
        }
      ]
    },
    {
      "cell_type": "code",
      "source": [
        "st1= \"HELLO\"\n",
        "\n",
        "print(\"At index 0\",st1[0])\n",
        "print(\"At index 1\",st1[1])\n",
        "print(\"At index 2\",st1[2])\n",
        "print(\"At index 3\",st1[3])\n",
        "print(\"At index 4\",st1[4])\n",
        "print()\n",
        "print(\"Negative indexing\")\n",
        "print(\"At index -1\",st1[-1])\n",
        "print(\"At index -2\",st1[-2])\n",
        "print(\"At index -3\",st1[-3])\n",
        "print(\"At index -4\",st1[-4])\n",
        "print(\"At index -5\",st1[-5])"
      ],
      "metadata": {
        "id": "6JtBLoJwiDFZ"
      },
      "execution_count": null,
      "outputs": []
    },
    {
      "cell_type": "code",
      "source": [
        "st1= \"HELLO\"\n",
        "\n",
        "print(st1)\n",
        "print(st1[1:3]) #EL\n",
        "print(st1[-3:-1]) #LL\n",
        "print(st1[::-1])\n",
        "\n",
        "print(st1[-1:-4])"
      ],
      "metadata": {
        "id": "tE4D6uW2jEOn"
      },
      "execution_count": null,
      "outputs": []
    },
    {
      "cell_type": "code",
      "source": [
        "str11 = \"Porgramming\"\n",
        "\n",
        "print(str11)\n",
        "\n",
        "del str11\n",
        "\n",
        "print(str11)"
      ],
      "metadata": {
        "id": "tQjTziVhkXs7"
      },
      "execution_count": null,
      "outputs": []
    },
    {
      "cell_type": "code",
      "source": [
        "#Compare two strings\n",
        "\n",
        "str1 = \"Hello, world!\"\n",
        "str2 = \"I love Python\"\n",
        "str3 = \"Hello, world!\"\n",
        "\n",
        "# compare str1 and str2\n",
        "print(str1 == str2) #FALSE\n",
        "\n",
        "# compare str1 and str3\n",
        "print(str1 == str3) #TRUE"
      ],
      "metadata": {
        "id": "R8msxiWulmtQ"
      },
      "execution_count": null,
      "outputs": []
    },
    {
      "cell_type": "code",
      "source": [
        "#ord() and chr()\n",
        "\n",
        "print(ord('A'))\n",
        "\n",
        "print(chr(67))\n",
        "\n",
        "print(ord('a'))\n",
        "\n",
        "print(chr(106))\n",
        "\n",
        "print('a'<'A')\n",
        "\n",
        "print('aa'<'aA')"
      ],
      "metadata": {
        "id": "LrTIPrjC36Lh"
      },
      "execution_count": null,
      "outputs": []
    },
    {
      "cell_type": "code",
      "source": [
        "#Concatenate two strings\n",
        "\n",
        "greet = \"Hello\"\n",
        "name = \"Python\"\n",
        "\n",
        "# using + operator\n",
        "result = greet + name\n",
        "print(result) #HelloPython\n",
        "\n",
        "# Output: Hello Python\n",
        "\n",
        "print(greet+\" \"+name)\n"
      ],
      "metadata": {
        "id": "d9ywASc-l9RG"
      },
      "execution_count": null,
      "outputs": []
    },
    {
      "cell_type": "code",
      "source": [
        "#iterating through String\n",
        "\n",
        "str1 = \"Programming\"\n",
        "\n",
        "for i in str1:\n",
        "    print(i, end=\"\")\n",
        "\n",
        "print(\"\\n\")\n",
        "for i in str1:\n",
        "    print(i)"
      ],
      "metadata": {
        "id": "r0tY--mUnhZV"
      },
      "execution_count": null,
      "outputs": []
    },
    {
      "cell_type": "code",
      "source": [
        "str1 = \"Programming\"\n",
        "\n",
        "print(len(str1))\n",
        "for i in range(len(str1)):\n",
        "    print(str1[i], end=\" \")\n",
        "\n"
      ],
      "metadata": {
        "id": "jTP-vWzdoRoD"
      },
      "execution_count": null,
      "outputs": []
    },
    {
      "cell_type": "code",
      "source": [
        "str1 = \"Programming\"\n",
        "\n",
        "i=0\n",
        "length= len(str1)\n",
        "\n",
        "while i<length:\n",
        "    print(\"str[\",i,\"]\",str1[i])\n",
        "    i+=1"
      ],
      "metadata": {
        "id": "1CmiylSRn8No"
      },
      "execution_count": null,
      "outputs": []
    },
    {
      "cell_type": "code",
      "source": [
        "#Membership operators\n",
        "\n",
        "str2= \"Python\"\n",
        "\n",
        "print(\"P\" in str2)\n",
        "print(\"P\" not in str2)"
      ],
      "metadata": {
        "id": "9IDuixpgrufn"
      },
      "execution_count": null,
      "outputs": []
    },
    {
      "cell_type": "code",
      "source": [
        "#isalnum() True or False\n",
        "\n",
        "message= \"007\"\n",
        "\n",
        "print(message.isalnum())\n",
        "\n",
        "message2= \"Python@123\"\n",
        "print(message2.isalnum())"
      ],
      "metadata": {
        "id": "AxMJA4OpsZsF"
      },
      "execution_count": null,
      "outputs": []
    },
    {
      "cell_type": "code",
      "source": [
        "\n",
        "\n",
        "message= \"Python\"\n",
        "\n",
        "print(message.isalpha()) #True\n",
        "\n",
        "message2= \"Python Java\"\n",
        "print(message2.isalpha()) #False"
      ],
      "metadata": {
        "id": "SmsvIFRXstdd"
      },
      "execution_count": null,
      "outputs": []
    },
    {
      "cell_type": "code",
      "source": [
        "contact= \"123456\"\n",
        "\n",
        "print(contact.isdigit())\n",
        "\n",
        "contact2= \"123456a\"\n",
        "print(contact2.isdigit())"
      ],
      "metadata": {
        "id": "j_rmfuT4s3vQ"
      },
      "execution_count": null,
      "outputs": []
    },
    {
      "cell_type": "code",
      "source": [
        "str1 = \"Hello\"\n",
        "\n",
        "str2 = \"HELLO\"\n",
        "\n",
        "srt3 = \"hello\"\n",
        "\n",
        "print(str1.islower())\n",
        "print(str1.isupper())\n",
        "print(str2.isupper()) #TRUE\n",
        "print(srt3.islower()) #TRUE"
      ],
      "metadata": {
        "id": "CwvIX-o0tKVG"
      },
      "execution_count": null,
      "outputs": []
    },
    {
      "cell_type": "code",
      "source": [
        "#String reassigning\n",
        "\n",
        "str11= \"Hello\"\n",
        "\n",
        "print(id(str11))\n",
        "\n",
        "print(str11)\n",
        "\n",
        "str11= \"Python\"\n",
        "\n",
        "print(id(str11))\n",
        "\n",
        "print(str11)"
      ],
      "metadata": {
        "colab": {
          "base_uri": "https://localhost:8080/"
        },
        "id": "90vu-Szui-6v",
        "outputId": "8ceee918-7497-49ee-93d9-0e7c1bdfc709"
      },
      "execution_count": null,
      "outputs": [
        {
          "output_type": "stream",
          "name": "stdout",
          "text": [
            "135868780361456\n",
            "Hello\n",
            "135869216978352\n",
            "Python\n"
          ]
        }
      ]
    },
    {
      "cell_type": "code",
      "source": [
        "str1 = \"helLO\"\n",
        "\n",
        "print(str1.lower()) # hello\n",
        "\n",
        "print(str1.upper()) #HELLO\n",
        "\n",
        "print(str1.capitalize()) #HelLO\n",
        "\n",
        "print(str1.swapcase()) #HELlo"
      ],
      "metadata": {
        "colab": {
          "base_uri": "https://localhost:8080/"
        },
        "id": "FrdjojXouKTX",
        "outputId": "57f04e27-1441-42bf-a938-b1ced4df10fc"
      },
      "execution_count": null,
      "outputs": [
        {
          "output_type": "stream",
          "name": "stdout",
          "text": [
            "hello\n",
            "HELLO\n",
            "Hello\n",
            "HELlo\n"
          ]
        }
      ]
    },
    {
      "cell_type": "code",
      "source": [
        "str1 = \"Python is fun\"\n",
        "\n",
        "print(str1.title())"
      ],
      "metadata": {
        "colab": {
          "base_uri": "https://localhost:8080/"
        },
        "id": "6YBY9jj6jsbX",
        "outputId": "c52c2523-0888-41e6-a5ec-f5881a7ddf2c"
      },
      "execution_count": null,
      "outputs": [
        {
          "output_type": "stream",
          "name": "stdout",
          "text": [
            "Python Is Fun\n"
          ]
        }
      ]
    },
    {
      "cell_type": "code",
      "source": [
        "str11= \"abc\"\n",
        "\n",
        "print(max(str11))\n",
        "\n",
        "print(min(str11))"
      ],
      "metadata": {
        "colab": {
          "base_uri": "https://localhost:8080/"
        },
        "id": "vSMFN9sNjxpU",
        "outputId": "c6c41ad4-cd41-4df3-da8d-166e51b5932f"
      },
      "execution_count": null,
      "outputs": [
        {
          "output_type": "stream",
          "name": "stdout",
          "text": [
            "c\n",
            "a\n"
          ]
        }
      ]
    },
    {
      "cell_type": "code",
      "source": [
        "#Left padded with zero\n",
        "\n",
        "str1= \"1234\"\n",
        "\n",
        "print(str1.zfill(10))"
      ],
      "metadata": {
        "colab": {
          "base_uri": "https://localhost:8080/"
        },
        "id": "5RhUAVMOioaP",
        "outputId": "ca072826-919a-42bd-db8a-cd0ba4afd8a1"
      },
      "execution_count": null,
      "outputs": [
        {
          "output_type": "stream",
          "name": "stdout",
          "text": [
            "0000001234\n"
          ]
        }
      ]
    },
    {
      "cell_type": "code",
      "source": [
        "#str_name.partition(seprator)- return tuple with three values\n",
        "string = \"Python is fun\"\n",
        "\n",
        "# 'is' separator is found\n",
        "print(string.partition('fun'))"
      ],
      "metadata": {
        "colab": {
          "base_uri": "https://localhost:8080/"
        },
        "id": "rxLUm7Wez9pu",
        "outputId": "7d9687d5-9e82-4e3e-80a3-c99af78f3aae"
      },
      "execution_count": null,
      "outputs": [
        {
          "output_type": "stream",
          "name": "stdout",
          "text": [
            "('Python is ', 'fun', '')\n"
          ]
        }
      ]
    },
    {
      "cell_type": "code",
      "source": [
        "# lstrip(), rstrip() and strip()\n",
        "\n",
        "str11= \" Hello Python \"\n",
        "\n",
        "#print(str11.lstrip())\n",
        "\n",
        "#print(str11.rstrip())\n",
        "\n",
        "print(str11.strip())"
      ],
      "metadata": {
        "colab": {
          "base_uri": "https://localhost:8080/"
        },
        "id": "jrcCsRDfjUme",
        "outputId": "61b3a181-6b96-4786-ba61-78b2f2611503"
      },
      "execution_count": null,
      "outputs": [
        {
          "output_type": "stream",
          "name": "stdout",
          "text": [
            "Hello Python\n"
          ]
        }
      ]
    },
    {
      "cell_type": "code",
      "source": [
        "#replace()\n",
        "\n",
        "str1 = \"Python is fun fun fun fun\"\n",
        "print(str1)\n",
        "#print(id(str1))\n",
        "\n",
        "print(str1.replace(\"fun\", \"awesome\"))\n",
        "print(\"After replace\")\n",
        "#print(str1)\n",
        "#print(id(str1))"
      ],
      "metadata": {
        "colab": {
          "base_uri": "https://localhost:8080/"
        },
        "id": "p-18aNWLl9zj",
        "outputId": "b107966d-3074-4aa9-d1c9-25f20391ed3d"
      },
      "execution_count": null,
      "outputs": [
        {
          "output_type": "stream",
          "name": "stdout",
          "text": [
            "Python is fun fun fun fun\n",
            "Python is awesome awesome awesome awesome\n",
            "After replace\n"
          ]
        }
      ]
    },
    {
      "cell_type": "code",
      "source": [
        "#text= 'Split this string awesome'\n",
        "\n",
        "# splits using space\n",
        "#print(text.split())\n",
        "\n",
        "grocery = 'Milk,Chicken,Bread'\n",
        "\n",
        "# splits using ,\n",
        "#print(grocery.split(','))\n",
        "\n",
        "# splits using :\n",
        "# doesn't split as grocery doesn't have :\n",
        "#print(grocery.split(':'))\n",
        "\n",
        "grocery1 = 'Milk:Chicken:Bread'\n",
        "\n",
        "print(grocery1.split(':'))"
      ],
      "metadata": {
        "colab": {
          "base_uri": "https://localhost:8080/"
        },
        "id": "e78SPLvN1rSV",
        "outputId": "4b108845-bd1e-4fe2-8f52-8334623df8ec"
      },
      "execution_count": null,
      "outputs": [
        {
          "output_type": "stream",
          "name": "stdout",
          "text": [
            "['Milk', 'Chicken', 'Bread']\n"
          ]
        }
      ]
    },
    {
      "cell_type": "code",
      "source": [
        "#join() :- seprator.join(string)\n",
        "\n",
        "text = ['Python', 'is', 'a', 'fun', 'programming', 'language']\n",
        "\n",
        "# join elements of text with space\n",
        "#print(' '.join(text))\n",
        "\n",
        "# Output: Python is a fun programming language\n",
        "\n",
        "print('_'.join(text))"
      ],
      "metadata": {
        "colab": {
          "base_uri": "https://localhost:8080/"
        },
        "id": "LZDpTXoO0neP",
        "outputId": "7bc6def7-205f-4465-bc39-2860b5a9d7a7"
      },
      "execution_count": null,
      "outputs": [
        {
          "output_type": "stream",
          "name": "stdout",
          "text": [
            "Python_is_a_fun_programming_language\n"
          ]
        }
      ]
    },
    {
      "cell_type": "code",
      "source": [
        "#Python String Formatting (f-Strings)\n",
        "\n",
        "name = 'Aman'\n",
        "country = 'USA'\n",
        "age=34\n",
        "\n",
        "print(f'{name} is from {country} and {age} year old')\n",
        "\n",
        "print(name,\" is from\", country, \"and\", age, \" year old\")\n"
      ],
      "metadata": {
        "colab": {
          "base_uri": "https://localhost:8080/"
        },
        "collapsed": true,
        "id": "ygsKMwXQ2O_t",
        "outputId": "78666108-47d6-4c85-a4c2-af6e6b28d348"
      },
      "execution_count": null,
      "outputs": [
        {
          "output_type": "stream",
          "name": "stdout",
          "text": [
            "Aman is from USA and 34 year old\n",
            "Aman  is from USA and 34  year old\n"
          ]
        }
      ]
    },
    {
      "cell_type": "code",
      "source": [
        "name = \"Aditya\"\n",
        "age = 36\n",
        "\n",
        "#string.format(variables)\n",
        "\n",
        "string = \"My name is {} and I am {} years old.\"\n",
        "print(string.format(name, age))\n",
        "# Output: My name is Aditya and I am 36 years old.\n",
        "\n",
        "string2 = \"My name is {0} and I am {1} years old.\"\n",
        "print(string2.format(\"Raj\", 25))"
      ],
      "metadata": {
        "colab": {
          "base_uri": "https://localhost:8080/"
        },
        "id": "-Q_aJgAn24vk",
        "outputId": "0782bbeb-664b-4ffa-cd8d-52ab377764ac"
      },
      "execution_count": null,
      "outputs": [
        {
          "output_type": "stream",
          "name": "stdout",
          "text": [
            "My name is Aditya and I am 36 years old.\n",
            "My name is Raj and I am 25 years old.\n"
          ]
        }
      ]
    },
    {
      "cell_type": "code",
      "source": [
        "formatted_string = \"My name is {name} and I am {age} years old.\".format(name=\"Aman\", age=16)\n",
        "print(formatted_string)\n",
        "# Output: My name is Aman and I am 16 years old.\n"
      ],
      "metadata": {
        "id": "oloPgcVP3o7-"
      },
      "execution_count": null,
      "outputs": []
    }
  ]
}