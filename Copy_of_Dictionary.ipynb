{
  "nbformat": 4,
  "nbformat_minor": 0,
  "metadata": {
    "colab": {
      "provenance": [],
      "include_colab_link": true
    },
    "kernelspec": {
      "name": "python3",
      "display_name": "Python 3"
    },
    "language_info": {
      "name": "python"
    }
  },
  "cells": [
    {
      "cell_type": "markdown",
      "metadata": {
        "id": "view-in-github",
        "colab_type": "text"
      },
      "source": [
        "<a href=\"https://colab.research.google.com/github/NEKHIL124322/SIVA-SANKAR-MUJ/blob/main/Copy_of_Dictionary.ipynb\" target=\"_parent\"><img src=\"https://colab.research.google.com/assets/colab-badge.svg\" alt=\"Open In Colab\"/></a>"
      ]
    },
    {
      "cell_type": "markdown",
      "source": [
        "In Python, a dictionary is an unordered, mutable (changeable) collection of key-value pairs. Dictionaries are used to store data values where each value is associated with a unique key. Keys in a dictionary are unique and must be immutable types like strings, numbers, or tuples, while values can be of any data type and can be duplicated."
      ],
      "metadata": {
        "id": "kmdZ-Qo47vov"
      }
    },
    {
      "cell_type": "code",
      "source": [
        "#How to create empty dictionary\n",
        "\n",
        "dict1={}\n",
        "\n",
        "print(type(dict1))\n",
        "\n",
        "print(dict1)\n",
        "\n",
        "dict2=dict()\n",
        "\n",
        "print(type(dict2))\n",
        "\n",
        "print(dict2)"
      ],
      "metadata": {
        "colab": {
          "base_uri": "https://localhost:8080/"
        },
        "id": "Mw1iZwFvvvon",
        "outputId": "63d7caa5-0179-4211-cc62-357baaa96984"
      },
      "execution_count": null,
      "outputs": [
        {
          "output_type": "stream",
          "name": "stdout",
          "text": [
            "<class 'dict'>\n",
            "{}\n",
            "<class 'dict'>\n",
            "{}\n"
          ]
        }
      ]
    },
    {
      "cell_type": "code",
      "execution_count": null,
      "metadata": {
        "colab": {
          "base_uri": "https://localhost:8080/"
        },
        "id": "Jf_-vcdBiSWq",
        "outputId": "b988ad98-3aab-4263-dc8c-88c951e7bff1"
      },
      "outputs": [
        {
          "output_type": "stream",
          "name": "stdout",
          "text": [
            "{1: 'Aditya', 2: 'Hello', 3: 4.5}\n",
            "Keys are dict_keys([1, 2, 3])\n",
            "Values are dict_values(['Aditya', 'Hello', 4.5])\n",
            "Items are dict_items([(1, 'Aditya'), (2, 'Hello'), (3, 4.5)])\n"
          ]
        }
      ],
      "source": [
        "d1={1:\"Aditya\",2:\"Hello\",3:4.5} # key:value\n",
        "\n",
        "#print(type(d1))\n",
        "\n",
        "print(d1)\n",
        "\n",
        "print(\"Keys are\", d1.keys()) # return list of keys\n",
        "\n",
        "print(\"Values are\",d1.values()) # return list of values\n",
        "\n",
        "print(\"Items are\",d1.items()) # return lists of tuples having key and values\n"
      ]
    },
    {
      "cell_type": "code",
      "source": [
        "d2={1:23, 2:34, 3:45, 1:45}\n",
        "\n",
        "print(d2)"
      ],
      "metadata": {
        "colab": {
          "base_uri": "https://localhost:8080/"
        },
        "id": "pixMA7sulGEd",
        "outputId": "2c122056-3f3a-408e-e72b-80e1f63ee0a2"
      },
      "execution_count": null,
      "outputs": [
        {
          "output_type": "stream",
          "name": "stdout",
          "text": [
            "{1: 45, 2: 34, 3: 45}\n"
          ]
        }
      ]
    },
    {
      "cell_type": "code",
      "source": [
        "#mutable objects can not be allowed as a key in dictionary\n",
        "\n",
        "d3={1:22,\"Hello\":33,(1,2):44, 4.5:55, (4,5):[1,2,3]}\n",
        "\n",
        "print(d3)"
      ],
      "metadata": {
        "colab": {
          "base_uri": "https://localhost:8080/"
        },
        "id": "mhgkhqZIlm5f",
        "outputId": "5d337d56-5611-4624-b676-a5d1bea21472"
      },
      "execution_count": null,
      "outputs": [
        {
          "output_type": "stream",
          "name": "stdout",
          "text": [
            "{1: 22, 'Hello': 33, (1, 2): 44, 4.5: 55, (4, 5): [1, 2, 3]}\n"
          ]
        }
      ]
    },
    {
      "cell_type": "code",
      "source": [
        "# update operation on dictionary\n",
        "\n",
        "d1={\"Name\": \"Raj\", \"Age\":24, \"Salary\":34000}\n",
        "\n",
        "print(d1)\n",
        "\n",
        "# Change salary to 35000\n",
        "\n",
        "d1[\"Salary\"]= 35000\n",
        "\n",
        "print(d1)\n",
        "\n",
        "d1[\"Age\"]=34\n",
        "\n",
        "print(d1)"
      ],
      "metadata": {
        "colab": {
          "base_uri": "https://localhost:8080/"
        },
        "id": "rAbuitn0msJH",
        "outputId": "0320bad1-f627-40bc-ecc2-80ced06ae505"
      },
      "execution_count": null,
      "outputs": [
        {
          "output_type": "stream",
          "name": "stdout",
          "text": [
            "{'Name': 'Raj', 'Age': 24, 'Salary': 34000}\n",
            "{'Name': 'Raj', 'Age': 24, 'Salary': 35000}\n",
            "{'Name': 'Raj', 'Age': 34, 'Salary': 35000}\n"
          ]
        }
      ]
    },
    {
      "cell_type": "code",
      "source": [
        "# How to perform insertion in dictionary\n",
        "d1={\"Name\": \"Raj\", \"Age\":24, \"Salary\":34000}\n",
        "\n",
        "d1[\"Age1\"]=30\n",
        "\n",
        "print(d1)"
      ],
      "metadata": {
        "colab": {
          "base_uri": "https://localhost:8080/"
        },
        "id": "fHvUK3PaoEYM",
        "outputId": "72ff97e3-d351-4cb7-9a5a-c467762744f2"
      },
      "execution_count": null,
      "outputs": [
        {
          "output_type": "stream",
          "name": "stdout",
          "text": [
            "{'Name': 'Raj', 'Age': 24, 'Salary': 34000, 'Age1': 30}\n"
          ]
        }
      ]
    },
    {
      "cell_type": "code",
      "source": [
        "#update()\n",
        "\n",
        "marks = {'Physics':67, 'Maths':87}\n",
        "\n",
        "\n",
        "internal_marks = {'Practical':48, 'Computer':45}\n",
        "\n",
        "marks.update(internal_marks)\n",
        "\n",
        "\n",
        "print(marks)\n",
        "\n",
        "print(internal_marks)\n",
        "\n",
        "# Output: {'Physics': 67, 'Maths': 87, 'Practical': 48}"
      ],
      "metadata": {
        "colab": {
          "base_uri": "https://localhost:8080/"
        },
        "id": "Z3Lo5gwJo76e",
        "outputId": "8625e3b1-7746-4d75-8e13-96482999194f"
      },
      "execution_count": null,
      "outputs": [
        {
          "output_type": "stream",
          "name": "stdout",
          "text": [
            "{'Physics': 67, 'Maths': 87, 'Practical': 48, 'Computer': 45}\n",
            "{'Practical': 48, 'Computer': 45}\n"
          ]
        }
      ]
    },
    {
      "cell_type": "code",
      "source": [
        "#update()\n",
        "\n",
        "marks = {'Physics':67, 'Maths':87}\n",
        "\n",
        "\n",
        "update_marks = {'Physics':70, 'Maths':90}\n",
        "\n",
        "marks.update(update_marks)\n",
        "\n",
        "\n",
        "print(marks)\n",
        "\n"
      ],
      "metadata": {
        "colab": {
          "base_uri": "https://localhost:8080/"
        },
        "id": "zX1Y7CuUqTY9",
        "outputId": "4a5abef5-c07b-4224-dbfc-b6e6d8f6e8e9"
      },
      "execution_count": null,
      "outputs": [
        {
          "output_type": "stream",
          "name": "stdout",
          "text": [
            "{'Physics': 70, 'Maths': 90}\n"
          ]
        }
      ]
    },
    {
      "cell_type": "code",
      "source": [
        "list1=[(1,22),(2,33), (3,44)]\n",
        "\n",
        "dict1=dict(list1)\n",
        "\n",
        "print(dict1)"
      ],
      "metadata": {
        "colab": {
          "base_uri": "https://localhost:8080/"
        },
        "id": "AOaodgBhIEmu",
        "outputId": "05088f72-ff66-409a-eead-2db8bf4508ca"
      },
      "execution_count": null,
      "outputs": [
        {
          "output_type": "stream",
          "name": "stdout",
          "text": [
            "{1: 22, 2: 33, 3: 44}\n"
          ]
        }
      ]
    },
    {
      "cell_type": "code",
      "source": [
        "dictionary = {'x': 2}\n",
        "\n",
        "dictionary.update([('y', 3), ('z', 0)])\n",
        "\n",
        "print(dictionary)"
      ],
      "metadata": {
        "colab": {
          "base_uri": "https://localhost:8080/"
        },
        "id": "AvmaxnZjww_O",
        "outputId": "208dbea5-6fde-4f71-a65b-ea5d8f22f8de"
      },
      "execution_count": null,
      "outputs": [
        {
          "output_type": "stream",
          "name": "stdout",
          "text": [
            "{'x': 2, 'y': 3, 'z': 0}\n"
          ]
        }
      ]
    },
    {
      "cell_type": "code",
      "source": [
        "#Nested dictionary\n",
        "\n",
        "d11={1:{11:22},2:{22:33}}\n",
        "\n",
        "print(d11[1])\n",
        "\n",
        "print(d11[2][22])"
      ],
      "metadata": {
        "colab": {
          "base_uri": "https://localhost:8080/"
        },
        "id": "bqpZ_3xrItVA",
        "outputId": "5556f36f-3161-4eac-d425-23d2f2e22aaa"
      },
      "execution_count": null,
      "outputs": [
        {
          "output_type": "stream",
          "name": "stdout",
          "text": [
            "{11: 22}\n",
            "33\n"
          ]
        }
      ]
    },
    {
      "cell_type": "code",
      "source": [
        "original = {1:'one', 2:'two'}\n",
        "new = original.copy()\n",
        "\n",
        "\n",
        "print('Orignal: ', original)\n",
        "print('New: ', new)\n",
        "\n",
        "new[3]='three'\n",
        "\n",
        "print('Orignal: ', original)\n",
        "print('New: ', new)"
      ],
      "metadata": {
        "colab": {
          "base_uri": "https://localhost:8080/"
        },
        "id": "-egY3zToxkrB",
        "outputId": "286157a4-e045-42a9-ef31-a04f29df7772"
      },
      "execution_count": null,
      "outputs": [
        {
          "output_type": "stream",
          "name": "stdout",
          "text": [
            "Orignal:  {1: 'one', 2: 'two'}\n",
            "New:  {1: 'one', 2: 'two'}\n",
            "Orignal:  {1: 'one', 2: 'two'}\n",
            "New:  {1: 'one', 2: 'two', 3: 'three'}\n"
          ]
        }
      ]
    },
    {
      "cell_type": "code",
      "source": [
        "# Delete operation\n",
        "\n",
        "mark= {'Practical': 48, 'Computer': 45, 'Physics': 67, 'Maths': 87}\n",
        "\n",
        "# del statement\n",
        "\n",
        "del mark[\"Computer\"]\n",
        "\n",
        "print(mark)\n",
        "\n"
      ],
      "metadata": {
        "colab": {
          "base_uri": "https://localhost:8080/"
        },
        "id": "gCnwT3iWrGZ6",
        "outputId": "5458d4cd-191c-4df0-f052-57ff3da26414"
      },
      "execution_count": null,
      "outputs": [
        {
          "output_type": "stream",
          "name": "stdout",
          "text": [
            "{'Practical': 48, 'Physics': 67, 'Maths': 87}\n"
          ]
        }
      ]
    },
    {
      "cell_type": "code",
      "source": [
        "mark= {'Practical': 48, 'Computer': 45, 'Physics': 67, 'Maths': 87}\n",
        "\n",
        "mark.clear()\n",
        "\n",
        "print(mark)"
      ],
      "metadata": {
        "colab": {
          "base_uri": "https://localhost:8080/"
        },
        "id": "3xqv54FuJzAd",
        "outputId": "d02eb505-da38-4168-a5d0-039f446b60e3"
      },
      "execution_count": null,
      "outputs": [
        {
          "output_type": "stream",
          "name": "stdout",
          "text": [
            "{}\n"
          ]
        }
      ]
    },
    {
      "cell_type": "code",
      "source": [
        "# Delete operation\n",
        "\n",
        "mark= {'Practical': 48, 'Computer': 45, 'Physics': 67, 'Maths': 87}\n",
        "\n",
        "print(mark.pop(\"Physics\"))\n",
        "\n",
        "\n",
        "print(mark)"
      ],
      "metadata": {
        "colab": {
          "base_uri": "https://localhost:8080/"
        },
        "id": "1_hB-iCjsFxs",
        "outputId": "690247be-2e6b-45de-8af5-fbe96bd10ec8"
      },
      "execution_count": null,
      "outputs": [
        {
          "output_type": "stream",
          "name": "stdout",
          "text": [
            "67\n",
            "{'Practical': 48, 'Computer': 45, 'Maths': 87}\n"
          ]
        }
      ]
    },
    {
      "cell_type": "code",
      "source": [
        "# Delete operation\n",
        "\n",
        "mark= {'Practical': 48, 'Computer': 45, 'Physics': 67, 'Maths': 87}\n",
        "\n",
        "mark[\"Science\"]=90\n",
        "\n",
        "print(mark)\n",
        "\n",
        "print(mark.popitem())\n",
        "\n",
        "print(mark)"
      ],
      "metadata": {
        "colab": {
          "base_uri": "https://localhost:8080/"
        },
        "id": "qe67pq8Ls1oA",
        "outputId": "3b122fc5-fe49-49b2-ab04-49d9c271d30c"
      },
      "execution_count": null,
      "outputs": [
        {
          "output_type": "stream",
          "name": "stdout",
          "text": [
            "{'Practical': 48, 'Computer': 45, 'Physics': 67, 'Maths': 87, 'Science': 90}\n",
            "('Science', 90)\n",
            "{'Practical': 48, 'Computer': 45, 'Physics': 67, 'Maths': 87}\n"
          ]
        }
      ]
    },
    {
      "cell_type": "code",
      "source": [
        "file_types = {\n",
        "    \".txt\": \"Text File\",\n",
        "    \".pdf\": \"PDF Document\",\n",
        "    \".jpg\": \"JPEG Image\",\n",
        "}\n",
        "\n",
        "# use of in and not in operators\n",
        "print(\".pdf\" in file_types)       # Output: True\n",
        "print(\".mp3\" in file_types)       # Output: False\n"
      ],
      "metadata": {
        "colab": {
          "base_uri": "https://localhost:8080/"
        },
        "id": "fdPjHPgdtd2B",
        "outputId": "0025916f-dddd-4303-83d5-815bf09b5fb1"
      },
      "execution_count": null,
      "outputs": [
        {
          "output_type": "stream",
          "name": "stdout",
          "text": [
            "True\n",
            "False\n"
          ]
        }
      ]
    },
    {
      "cell_type": "code",
      "source": [
        "# Create a dictionary having key, value pairs like key:(Key*key)\n",
        "\n",
        "d1={}\n",
        "\n",
        "for i in range(1,10):\n",
        "  d1[i]=i*i\n",
        "\n",
        "\n",
        "print(d1)"
      ],
      "metadata": {
        "colab": {
          "base_uri": "https://localhost:8080/"
        },
        "id": "XyV9a7f9tyDo",
        "outputId": "03c88064-e887-4127-894b-68426e8214ec"
      },
      "execution_count": null,
      "outputs": [
        {
          "output_type": "stream",
          "name": "stdout",
          "text": [
            "{1: 1, 2: 4, 3: 9, 4: 16, 5: 25, 6: 36, 7: 49, 8: 64, 9: 81}\n"
          ]
        }
      ]
    },
    {
      "cell_type": "code",
      "source": [
        "mark= {'Practical': 48, 'Computer': 45, 'Physics': 67, 'Maths': 87}\n",
        "\n",
        "for i in mark.items():\n",
        "  print(i, end=\" \")\n",
        "\n",
        "\n"
      ],
      "metadata": {
        "colab": {
          "base_uri": "https://localhost:8080/"
        },
        "id": "KRV89PmNuZeN",
        "outputId": "35b9d07a-a031-4bc7-c2cb-baf3f6a471e7"
      },
      "execution_count": null,
      "outputs": [
        {
          "output_type": "stream",
          "name": "stdout",
          "text": [
            "('Practical', 48) ('Computer', 45) ('Physics', 67) ('Maths', 87) "
          ]
        }
      ]
    },
    {
      "cell_type": "code",
      "source": [
        "# keys for the dictionary\n",
        "alphabets = ['a', 'b', 'c']\n",
        "\n",
        "# value for the dictionary\n",
        "number = [1,2,3]\n",
        "\n",
        "# creates a dictionary with keys and values\n",
        "dictionary = dict.fromkeys(alphabets, number)\n",
        "\n",
        "print(dictionary)\n",
        "\n",
        "# Output: {'a': 1, 'c': 1, 'b': 1}"
      ],
      "metadata": {
        "colab": {
          "base_uri": "https://localhost:8080/"
        },
        "id": "CYEUEcotvLOL",
        "outputId": "91e165c5-d610-42c9-9123-d9be7b3ad78c"
      },
      "execution_count": null,
      "outputs": [
        {
          "output_type": "stream",
          "name": "stdout",
          "text": [
            "{'a': [1, 2, 3], 'b': [1, 2, 3], 'c': [1, 2, 3]}\n"
          ]
        }
      ]
    }
  ]
}