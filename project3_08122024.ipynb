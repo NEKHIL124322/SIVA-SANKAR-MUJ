{
  "nbformat": 4,
  "nbformat_minor": 0,
  "metadata": {
    "colab": {
      "provenance": [],
      "include_colab_link": true
    },
    "kernelspec": {
      "name": "python3",
      "display_name": "Python 3"
    },
    "language_info": {
      "name": "python"
    }
  },
  "cells": [
    {
      "cell_type": "markdown",
      "metadata": {
        "id": "view-in-github",
        "colab_type": "text"
      },
      "source": [
        "<a href=\"https://colab.research.google.com/github/NEKHIL124322/SIVA-SANKAR-MUJ/blob/main/project3_08122024.ipynb\" target=\"_parent\"><img src=\"https://colab.research.google.com/assets/colab-badge.svg\" alt=\"Open In Colab\"/></a>"
      ]
    },
    {
      "cell_type": "code",
      "execution_count": 2,
      "metadata": {
        "colab": {
          "base_uri": "https://localhost:8080/"
        },
        "id": "aC3wv2KTHyDe",
        "outputId": "5d19a243-716f-44f1-eb94-6e17cac44960"
      },
      "outputs": [
        {
          "output_type": "stream",
          "name": "stdout",
          "text": [
            "Hello\n"
          ]
        }
      ],
      "source": [
        "class A:\n",
        "  pass\n",
        "\n",
        "print(\"Hello\")"
      ]
    },
    {
      "cell_type": "code",
      "source": [
        "a=10\n",
        "\n",
        "print(type(a))"
      ],
      "metadata": {
        "colab": {
          "base_uri": "https://localhost:8080/"
        },
        "id": "q1gW95I9yWOx",
        "outputId": "03bbf4a4-0049-42e0-8c6f-b08428a45ba1"
      },
      "execution_count": null,
      "outputs": [
        {
          "output_type": "stream",
          "name": "stdout",
          "text": [
            "<class 'int'>\n"
          ]
        }
      ]
    },
    {
      "cell_type": "code",
      "source": [
        "class A:\n",
        "  var1=10\n",
        "\n",
        "obj=A() # creating object\n",
        "print(obj.var1)\n",
        "\n",
        "print(type(obj))"
      ],
      "metadata": {
        "colab": {
          "base_uri": "https://localhost:8080/"
        },
        "id": "U2fyVwCXtVqz",
        "outputId": "afbacf38-5c34-4e44-a0e7-d5d582ed0501"
      },
      "execution_count": null,
      "outputs": [
        {
          "output_type": "stream",
          "name": "stdout",
          "text": [
            "10\n",
            "<class '__main__.A'>\n"
          ]
        }
      ]
    },
    {
      "cell_type": "code",
      "source": [
        "class A1:\n",
        "  a=10  #class variable\n",
        "  def disp(self):   #class method\n",
        "    print(\"Hello Python\")\n",
        "    print(\"Value of a is \",self.a)\n",
        "\n",
        "ob1=A1()  #creating object\n",
        "\n",
        "#ob1.disp() # method to call a function of a class\n",
        "\n",
        "A1.disp(ob1) # This is also a method to call a function of a class we can can any of the function method\n",
        "\n"
      ],
      "metadata": {
        "colab": {
          "base_uri": "https://localhost:8080/"
        },
        "id": "C0bR5IDjH2e-",
        "outputId": "1cd3b596-e413-41bd-f304-da5a4ed0da63"
      },
      "execution_count": 8,
      "outputs": [
        {
          "output_type": "stream",
          "name": "stdout",
          "text": [
            "Hello Python\n",
            "Value of a is  10\n"
          ]
        }
      ]
    },
    {
      "cell_type": "code",
      "source": [
        "class Employee:\n",
        "    # Class variable\n",
        "    company_name = \"Tech Solutions\"\n",
        "\n",
        "    def emp(self, name, age):\n",
        "        # Instance variables\n",
        "        self.name1 = name\n",
        "        self.age1 = age\n",
        "        print(self.name1, \"is working in\",self.company_name, \"and \",self.age1, \"years old\")\n",
        "\n",
        "# Accessing class variable\n",
        "print(Employee.company_name)  # Output: Tech Solutions\n",
        "\n",
        "# Creating instances\n",
        "emp1 = Employee() #first object\n",
        "emp1.emp(\"Alice\", 30)\n",
        "\n",
        "emp2 = Employee()\n",
        "emp2.emp(\"Bob\", 25)\n",
        "\n",
        "print(emp1.name1)\n",
        "print(emp2.name1)\n",
        "\n",
        "Employee.company_name=\"TCS\"\n",
        "\n",
        "print(emp1.company_name)  # Output: TCS\n",
        "print(emp2.company_name)  # Output: TCS\n"
      ],
      "metadata": {
        "colab": {
          "base_uri": "https://localhost:8080/"
        },
        "id": "XM95BhrvJSBF",
        "outputId": "52e45160-14ff-41c3-ba39-11366f7843d7"
      },
      "execution_count": 13,
      "outputs": [
        {
          "output_type": "stream",
          "name": "stdout",
          "text": [
            "Tech Solutions\n",
            "Alice is working in Tech Solutions and  30 years old\n",
            "Bob is working in Tech Solutions and  25 years old\n",
            "Alice\n",
            "Bob\n",
            "TCS\n",
            "TCS\n"
          ]
        }
      ]
    },
    {
      "cell_type": "code",
      "source": [
        "class ADD:\n",
        "  c=10 #class variable\n",
        "  def __init__(self,num1,num2):  #Parameterised constructor in Python\n",
        "    #object variables\n",
        "    self.a=num1\n",
        "    self.b=num2\n",
        "\n",
        "  def summ(self):\n",
        "    print(\"Addition of numbers are \", self.a+self.b+ADD.c)\n",
        "\n",
        "ob1=ADD(1,2) # calling parameterized constructor\n",
        "print(\"Value of a and b for ob1\",ob1.a, ob1.b)\n",
        "print(\"Value of c for ob1\",ob1.c)\n",
        "ob1.summ()\n",
        "print()\n",
        "\n",
        "ob2=ADD(11,22)\n",
        "print(\"Value of a and b for ob1\",ob2.a, ob2.b)\n",
        "print(\"Value of c for ob2\",ob2.c)\n",
        "ob2.summ()"
      ],
      "metadata": {
        "colab": {
          "base_uri": "https://localhost:8080/"
        },
        "id": "3EL6op7QLByc",
        "outputId": "7469d27e-710a-4e8b-8983-56d64bf593c2"
      },
      "execution_count": null,
      "outputs": [
        {
          "output_type": "stream",
          "name": "stdout",
          "text": [
            "Value of a and b for ob1 1 2\n",
            "Value of c for ob1 10\n",
            "Addition of numbers are  13\n",
            "\n",
            "Value of a and b for ob1 11 22\n",
            "Value of c for ob2 10\n",
            "Addition of numbers are  43\n"
          ]
        }
      ]
    },
    {
      "cell_type": "code",
      "source": [
        "class A:\n",
        "  cp=10\n",
        "\n",
        "ob1=A()\n",
        "\n",
        "print(ob1.cp)\n",
        "\n",
        "A.cp=20\n",
        "\n",
        "print(ob1.cp)\n",
        "\n",
        "ob2=A()\n",
        "\n",
        "print(ob2.cp)"
      ],
      "metadata": {
        "colab": {
          "base_uri": "https://localhost:8080/"
        },
        "id": "_rM5IiCE5bRt",
        "outputId": "3687df0a-ab5c-4f41-bce6-a55a79972803"
      },
      "execution_count": null,
      "outputs": [
        {
          "output_type": "stream",
          "name": "stdout",
          "text": [
            "10\n",
            "20\n",
            "20\n"
          ]
        }
      ]
    },
    {
      "cell_type": "code",
      "source": [
        "#simple or Single Inheritance\n",
        "class A:\n",
        "\n",
        "  def input(self):\n",
        "    self.a=int(input(\"Enter length\"))\n",
        "    self.b=int(input(\"Enter breadth\"))\n",
        "\n",
        "class B(A):\n",
        "\n",
        "  def area(self):\n",
        "    print(\"Area of rectangle is\", self.a*self.b)\n",
        "\n",
        "ob1=B()\n",
        "ob1.input() #calling method of class A\n",
        "ob1.area() #calling method of class B"
      ],
      "metadata": {
        "colab": {
          "base_uri": "https://localhost:8080/"
        },
        "id": "-giVNTY3NPfO",
        "outputId": "0d086979-3191-41ec-b506-fe7475bd272a"
      },
      "execution_count": 15,
      "outputs": [
        {
          "output_type": "stream",
          "name": "stdout",
          "text": [
            "Enter length4\n",
            "Enter breadth6\n",
            "Area of rectangle is 24\n"
          ]
        }
      ]
    },
    {
      "cell_type": "code",
      "source": [
        "class A:\n",
        "  a=10\n",
        "\n",
        "class B(A):\n",
        "  b=15\n",
        "\n",
        "class C(B):\n",
        "  def sum(self):\n",
        "    print(\"Sum of a and b is \", self.a+self.b)\n",
        "\n",
        "obj=C()\n",
        "\n",
        "obj.sum()"
      ],
      "metadata": {
        "colab": {
          "base_uri": "https://localhost:8080/"
        },
        "id": "aA4Enpjwj5P9",
        "outputId": "74d22c3f-93e8-43c7-a209-f01d206feeb9"
      },
      "execution_count": null,
      "outputs": [
        {
          "output_type": "stream",
          "name": "stdout",
          "text": [
            "Sum of a and b is  25\n"
          ]
        }
      ]
    },
    {
      "cell_type": "code",
      "source": [
        "class A:\n",
        "  a=10\n",
        "\n",
        "class B:\n",
        "  b=15\n",
        "\n",
        "class C(B,A):\n",
        "  def sum(self):\n",
        "    print(\"Sum of a and b is \", self.a+self.b)\n",
        "\n",
        "obj=C()\n",
        "\n",
        "obj.sum()"
      ],
      "metadata": {
        "colab": {
          "base_uri": "https://localhost:8080/"
        },
        "id": "lXmQbK_M63JM",
        "outputId": "cb36ceff-f24d-4e36-e865-e66ace23373b"
      },
      "execution_count": null,
      "outputs": [
        {
          "output_type": "stream",
          "name": "stdout",
          "text": [
            "Sum of a and b is  25\n"
          ]
        }
      ]
    },
    {
      "cell_type": "code",
      "source": [
        "class ABC:\n",
        "  var1=10  #public member\n",
        "  _var2=20   #protected member\n",
        "  __var3=30    #private member\n",
        "\n",
        "  def pri(self):\n",
        "    print(\"Private variable \", self.__var3)\n",
        "\n",
        "obj=ABC()\n",
        "print(\"Public variable \", obj.var1)\n",
        "print(\"Protected variable \", obj._var2)\n",
        "#print(\"Private variable \", obj.__var3)\n",
        "print(\"Private members outside a class \", obj._ABC__var3) # another method to access private members os a class\n",
        "obj.pri() # Calling private member of the class"
      ],
      "metadata": {
        "colab": {
          "base_uri": "https://localhost:8080/"
        },
        "id": "uvX-MibjrOl1",
        "outputId": "53899092-5c6c-4f7e-976c-5679a3fbefbf"
      },
      "execution_count": 18,
      "outputs": [
        {
          "output_type": "stream",
          "name": "stdout",
          "text": [
            "Public variable  10\n",
            "Protected variable  20\n",
            "Private members outside a class  30\n",
            "Private variable  30\n"
          ]
        }
      ]
    },
    {
      "cell_type": "code",
      "source": [],
      "metadata": {
        "id": "ZtNYNA0OtTi1"
      },
      "execution_count": null,
      "outputs": []
    }
  ]
}