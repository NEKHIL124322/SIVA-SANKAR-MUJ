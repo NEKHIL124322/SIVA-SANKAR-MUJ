{
  "nbformat": 4,
  "nbformat_minor": 0,
  "metadata": {
    "colab": {
      "provenance": [],
      "include_colab_link": true
    },
    "kernelspec": {
      "name": "python3",
      "display_name": "Python 3"
    },
    "language_info": {
      "name": "python"
    }
  },
  "cells": [
    {
      "cell_type": "markdown",
      "metadata": {
        "id": "view-in-github",
        "colab_type": "text"
      },
      "source": [
        "<a href=\"https://colab.research.google.com/github/NEKHIL124322/SIVA-SANKAR-MUJ/blob/main/LS10_PY(T%2CP)U8_LIST_040125_.ipynb\" target=\"_parent\"><img src=\"https://colab.research.google.com/assets/colab-badge.svg\" alt=\"Open In Colab\"/></a>"
      ]
    },
    {
      "cell_type": "code",
      "execution_count": null,
      "metadata": {
        "colab": {
          "base_uri": "https://localhost:8080/"
        },
        "id": "BDKbWlKc2FqN",
        "outputId": "4ad966e4-4864-422b-dadf-a7979c17fc2c"
      },
      "outputs": [
        {
          "output_type": "stream",
          "name": "stdout",
          "text": [
            "[1, 2.5, 'Hello', [5, 4, 3]]\n"
          ]
        }
      ],
      "source": [
        " # A list is a collection data items\n",
        "\n",
        "\n",
        "l1=[1,2,3] # list of integers\n",
        "\n",
        "l2=[1.2,3.4,5.9] # list of float values\n",
        "\n",
        "l3=[1, 2.5, \"Hello\", [5,4,3]] # list of mixed data items\n",
        "\n",
        "print(l3)\n"
      ]
    },
    {
      "cell_type": "code",
      "source": [
        "# How to create empty\n",
        "\n",
        "l4=[]\n",
        "\n",
        "print(l4)\n",
        "\n",
        "l5=list()\n",
        "\n",
        "print(l5)"
      ],
      "metadata": {
        "colab": {
          "base_uri": "https://localhost:8080/"
        },
        "id": "sOTMUaHf3BIJ",
        "outputId": "eb017aa8-64e3-41e8-af1b-56834564c1b9"
      },
      "execution_count": null,
      "outputs": [
        {
          "output_type": "stream",
          "name": "stdout",
          "text": [
            "[]\n",
            "[]\n"
          ]
        }
      ]
    },
    {
      "cell_type": "code",
      "source": [
        "l3=[1, 2.5, \"Hello\", [5,4,3]]\n",
        "\n",
        "print(l3[0])\n",
        "print(l3[1])\n",
        "print(l3[2])\n",
        "print(l3[3])\n",
        "\n",
        "print(len(l3))"
      ],
      "metadata": {
        "colab": {
          "base_uri": "https://localhost:8080/"
        },
        "id": "88YwpixK3avi",
        "outputId": "1fcafc2e-d6a2-42d8-ee80-872a20bc7ec7"
      },
      "execution_count": null,
      "outputs": [
        {
          "output_type": "stream",
          "name": "stdout",
          "text": [
            "1\n",
            "2.5\n",
            "Hello\n",
            "[5, 4, 3]\n",
            "4\n"
          ]
        }
      ]
    },
    {
      "cell_type": "code",
      "source": [
        "l3=[1, 2.5, \"Hello\", [5,4,3]]\n",
        "\n",
        "l3[2]=\"Python\"\n",
        "\n",
        "print(l3)"
      ],
      "metadata": {
        "colab": {
          "base_uri": "https://localhost:8080/"
        },
        "id": "aOCQ8D5f3-xJ",
        "outputId": "55fa8ade-85a9-4bda-c142-e17536855b28"
      },
      "execution_count": null,
      "outputs": [
        {
          "output_type": "stream",
          "name": "stdout",
          "text": [
            "[1, 2.5, 'Python', [5, 4, 3]]\n"
          ]
        }
      ]
    },
    {
      "cell_type": "code",
      "source": [
        "l4=[6,5,4,3,2,1,7,8,9]\n",
        "\n",
        "print(l4[::]) #[start:Stop:Step]\n",
        "print(l4[2:7]) # start=2 stop=7, step=1(default)\n",
        "print(l4[::2])\n",
        "print(l4[::-1]) # reverse a list"
      ],
      "metadata": {
        "colab": {
          "base_uri": "https://localhost:8080/"
        },
        "id": "rsP2N9Rl4VAa",
        "outputId": "2bb01d3f-6a3a-4f5d-f99d-b55c96001980"
      },
      "execution_count": null,
      "outputs": [
        {
          "output_type": "stream",
          "name": "stdout",
          "text": [
            "[6, 5, 4, 3, 2, 1, 7, 8, 9]\n",
            "[4, 3, 2, 1, 7]\n",
            "[6, 4, 2, 7, 9]\n",
            "[9, 8, 7, 1, 2, 3, 4, 5, 6]\n"
          ]
        }
      ]
    },
    {
      "cell_type": "code",
      "source": [
        "# list is also supporting negative indexing\n",
        "\n",
        "l4=[6,5,4,3,2,1,7,8,9]\n",
        "\n",
        "print(l4[-1])\n",
        "print(l4[-2])"
      ],
      "metadata": {
        "colab": {
          "base_uri": "https://localhost:8080/"
        },
        "id": "3v49vUB95pc8",
        "outputId": "7bf48c7b-604e-44ae-db98-053ffbac44fa"
      },
      "execution_count": null,
      "outputs": [
        {
          "output_type": "stream",
          "name": "stdout",
          "text": [
            "9\n",
            "8\n"
          ]
        }
      ]
    },
    {
      "cell_type": "code",
      "source": [
        "l4=[6,5,4,3,2,1,7,8,9,11,12,0]\n",
        "\n",
        "print(max(l4))\n",
        "print(min(l4))\n",
        "print(sum(l4))\n",
        "print(len(l4))"
      ],
      "metadata": {
        "colab": {
          "base_uri": "https://localhost:8080/"
        },
        "id": "20InfWqo6EKz",
        "outputId": "e0a568c6-edc2-4876-bc02-19f6c730b82a"
      },
      "execution_count": null,
      "outputs": [
        {
          "output_type": "stream",
          "name": "stdout",
          "text": [
            "12\n",
            "0\n",
            "68\n",
            "12\n"
          ]
        }
      ]
    },
    {
      "cell_type": "code",
      "source": [
        "# any() and all()\n",
        "\n",
        "l1=[1,2,3]\n",
        "\n",
        "l2= [0,1,2]\n",
        "\n",
        "l3= [0,0,0]\n",
        "\n",
        "print(all(l1))\n",
        "print(all(l2))\n",
        "print(all(l3))\n",
        "print()\n",
        "print(any(l1))\n",
        "print(any(l2))\n",
        "print(any(l3))"
      ],
      "metadata": {
        "colab": {
          "base_uri": "https://localhost:8080/"
        },
        "id": "ljEcya8n6k_y",
        "outputId": "077caeba-fa90-4796-fa5f-fa5529f5d3c4"
      },
      "execution_count": null,
      "outputs": [
        {
          "output_type": "stream",
          "name": "stdout",
          "text": [
            "True\n",
            "False\n",
            "False\n",
            "\n",
            "True\n",
            "True\n",
            "False\n"
          ]
        }
      ]
    },
    {
      "cell_type": "code",
      "source": [
        "# How to add new data items into a list:- append(), and insert()\n",
        "\n",
        "l1=[1,2,3]\n",
        "\n",
        "l1.append(4)\n",
        "\n",
        "print(l1)"
      ],
      "metadata": {
        "colab": {
          "base_uri": "https://localhost:8080/"
        },
        "id": "zKpyan8P73YT",
        "outputId": "569edb3c-2ad2-4369-f327-048985c77fab"
      },
      "execution_count": null,
      "outputs": [
        {
          "output_type": "stream",
          "name": "stdout",
          "text": [
            "[1, 2, 3, 4]\n"
          ]
        }
      ]
    },
    {
      "cell_type": "code",
      "source": [
        "# insert(index, value)\n",
        "\n",
        "l2= [1,5,3,2]\n",
        "\n",
        "l2.insert(2,4) # index=2 and value =4\n",
        "\n",
        "print(l2)"
      ],
      "metadata": {
        "colab": {
          "base_uri": "https://localhost:8080/"
        },
        "id": "XjCmXEpV8QcQ",
        "outputId": "b1cb17aa-44d4-4aca-ef63-a9d4c8b53ec8"
      },
      "execution_count": null,
      "outputs": [
        {
          "output_type": "stream",
          "name": "stdout",
          "text": [
            "[1, 5, 4, 3, 2]\n"
          ]
        }
      ]
    },
    {
      "cell_type": "code",
      "source": [
        "# write a program to create list of even and odd numbers from 2 to 20\n",
        "\n",
        "even = []\n",
        "odd = []\n",
        "\n",
        "for i in range(2,21):\n",
        "    if i%2==0:\n",
        "        even.append(i)\n",
        "    else:\n",
        "        odd.append(i)\n",
        "\n",
        "print(even)\n",
        "print(odd)"
      ],
      "metadata": {
        "colab": {
          "base_uri": "https://localhost:8080/"
        },
        "id": "y-iBxhhW82zh",
        "outputId": "cda4ab89-abd6-4ce3-b9cd-1f600d663b0a"
      },
      "execution_count": null,
      "outputs": [
        {
          "output_type": "stream",
          "name": "stdout",
          "text": [
            "[2, 4, 6, 8, 10, 12, 14, 16, 18, 20]\n",
            "[3, 5, 7, 9, 11, 13, 15, 17, 19]\n"
          ]
        }
      ]
    },
    {
      "cell_type": "code",
      "source": [],
      "metadata": {
        "id": "BjPyA0Jg9zHZ"
      },
      "execution_count": null,
      "outputs": []
    },
    {
      "cell_type": "code",
      "source": [
        "print(list(range(2,21)))"
      ],
      "metadata": {
        "colab": {
          "base_uri": "https://localhost:8080/"
        },
        "id": "tNVIOaAh9Ps6",
        "outputId": "1fa6c158-fc7d-49d9-8b84-dbea4c56f95b"
      },
      "execution_count": null,
      "outputs": [
        {
          "output_type": "stream",
          "name": "stdout",
          "text": [
            "[2, 3, 4, 5, 6, 7, 8, 9, 10, 11, 12, 13, 14, 15, 16, 17, 18, 19, 20]\n"
          ]
        }
      ]
    },
    {
      "cell_type": "code",
      "source": [
        "# How to delete data item from list:- del statement\n",
        "\n",
        "lis=[1,3,4,5,2,7,8,9]\n",
        "\n",
        "del lis[2]\n",
        "\n",
        "print(lis)"
      ],
      "metadata": {
        "colab": {
          "base_uri": "https://localhost:8080/"
        },
        "id": "Lg8-0J5a9z1r",
        "outputId": "3fbca7de-71b7-47bb-c6e7-3100a1b91a6b"
      },
      "execution_count": null,
      "outputs": [
        {
          "output_type": "stream",
          "name": "stdout",
          "text": [
            "[1, 3, 5, 2, 7, 8, 9]\n"
          ]
        }
      ]
    },
    {
      "cell_type": "code",
      "source": [
        "lis=[1,3,4,5,2,7,8,9]\n",
        "\n",
        "del lis[2:5]\n",
        "\n",
        "print(lis)"
      ],
      "metadata": {
        "colab": {
          "base_uri": "https://localhost:8080/"
        },
        "id": "rWEbzQpZ-ROr",
        "outputId": "f280d2ea-623f-41d9-d083-4a3dfe8e1dcb"
      },
      "execution_count": null,
      "outputs": [
        {
          "output_type": "stream",
          "name": "stdout",
          "text": [
            "[1, 3, 7, 8, 9]\n"
          ]
        }
      ]
    },
    {
      "cell_type": "code",
      "source": [
        "# remove() methods\n",
        "\n",
        "lis=[1,3,4,5,2,7,8,9]\n",
        "\n",
        "lis.remove(3)\n",
        "\n",
        "print(lis)"
      ],
      "metadata": {
        "colab": {
          "base_uri": "https://localhost:8080/"
        },
        "id": "39Pd4KR2-fBy",
        "outputId": "ccaaf7a1-05a3-41d3-ae96-486ba4120876"
      },
      "execution_count": null,
      "outputs": [
        {
          "output_type": "stream",
          "name": "stdout",
          "text": [
            "[1, 4, 5, 2, 7, 8, 9]\n"
          ]
        }
      ]
    },
    {
      "cell_type": "code",
      "source": [
        "lis1=[1,2,3,4,5,4]\n",
        "\n",
        "lis1.remove(4)\n",
        "\n",
        "print(lis1)"
      ],
      "metadata": {
        "colab": {
          "base_uri": "https://localhost:8080/"
        },
        "id": "WJZKYz64-zlC",
        "outputId": "0dcc42a0-f66b-4007-ac77-28b3bb1f385d"
      },
      "execution_count": null,
      "outputs": [
        {
          "output_type": "stream",
          "name": "stdout",
          "text": [
            "[1, 2, 3, 5, 4]\n"
          ]
        }
      ]
    },
    {
      "cell_type": "code",
      "source": [
        "# pop(index is optional, default value is -1)\n",
        "\n",
        "lis=[1,3,4,5,2,7,8,9]\n",
        "\n",
        "lis.pop()\n",
        "\n",
        "print(lis)\n",
        "\n",
        "lis.pop(3)\n",
        "\n",
        "print(lis)"
      ],
      "metadata": {
        "colab": {
          "base_uri": "https://localhost:8080/"
        },
        "id": "kcckSG_W_Lhd",
        "outputId": "e10115af-0c14-4aca-f3b4-5f27b06a93ff"
      },
      "execution_count": null,
      "outputs": [
        {
          "output_type": "stream",
          "name": "stdout",
          "text": [
            "[1, 3, 4, 5, 2, 7, 8]\n",
            "[1, 3, 4, 2, 7, 8]\n"
          ]
        }
      ]
    },
    {
      "cell_type": "code",
      "source": [
        "# extend()\n",
        "\n",
        "l1= [1,2,3]\n",
        "\n",
        "l2=[4,5,6]\n",
        "\n",
        "l1.extend(l2)\n",
        "\n",
        "print(l1)"
      ],
      "metadata": {
        "colab": {
          "base_uri": "https://localhost:8080/"
        },
        "id": "BHN11mzb__dy",
        "outputId": "ee07fd91-81f6-468a-d716-65a32f43e0db"
      },
      "execution_count": null,
      "outputs": [
        {
          "output_type": "stream",
          "name": "stdout",
          "text": [
            "[1, 2, 3, 4, 5, 6]\n"
          ]
        }
      ]
    },
    {
      "cell_type": "code",
      "source": [
        "lis=[1,3,4,5,2,7,8,9]\n",
        "\n",
        "lis.sort()\n",
        "\n",
        "print(lis)"
      ],
      "metadata": {
        "colab": {
          "base_uri": "https://localhost:8080/"
        },
        "id": "VJo19dTzAdaT",
        "outputId": "825e0139-7113-40ae-bac8-90af652c1ac0"
      },
      "execution_count": null,
      "outputs": [
        {
          "output_type": "stream",
          "name": "stdout",
          "text": [
            "[1, 2, 3, 4, 5, 7, 8, 9]\n"
          ]
        }
      ]
    },
    {
      "cell_type": "code",
      "source": [
        "lis=[1,3,4,5,2,7,8,9]\n",
        "\n",
        "lis.sort(reverse=True)\n",
        "\n",
        "print(lis)"
      ],
      "metadata": {
        "colab": {
          "base_uri": "https://localhost:8080/"
        },
        "id": "WLBy_uOKAuMT",
        "outputId": "a521a6d9-63d1-40de-f16c-c894c60258bd"
      },
      "execution_count": null,
      "outputs": [
        {
          "output_type": "stream",
          "name": "stdout",
          "text": [
            "[9, 8, 7, 5, 4, 3, 2, 1]\n"
          ]
        }
      ]
    },
    {
      "cell_type": "code",
      "source": [
        "lis=[1,3,4,5,2,7,8,9]\n",
        "print(lis.index(3))\n",
        "lis.reverse()\n",
        "\n",
        "print(lis)\n",
        "\n",
        "print(lis.index(3))"
      ],
      "metadata": {
        "colab": {
          "base_uri": "https://localhost:8080/"
        },
        "id": "m2d1WUu5A5XJ",
        "outputId": "0ffc157d-d51d-42c3-a2d7-c4632e2d3752"
      },
      "execution_count": null,
      "outputs": [
        {
          "output_type": "stream",
          "name": "stdout",
          "text": [
            "1\n",
            "[9, 8, 7, 2, 5, 4, 3, 1]\n",
            "6\n"
          ]
        }
      ]
    }
  ]
}